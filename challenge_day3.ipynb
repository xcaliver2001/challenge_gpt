{
 "cells": [
  {
   "cell_type": "code",
   "execution_count": null,
   "metadata": {},
   "outputs": [
    {
     "name": "stdout",
     "output_type": "stream",
     "text": [
      "응답1: 🛩️👨‍✈️🔥\n",
      "응답2: 👨‍👨‍👦🔫🍝\n",
      "메모리 확인:\n",
      "content='탑건'\n",
      "content='🛩️👨\\u200d✈️🔥'\n",
      "content='대부'\n",
      "content='👨\\u200d👨\\u200d👦🔫🍝'\n"
     ]
    }
   ],
   "source": [
    "from langchain.prompts import FewShotPromptTemplate, PromptTemplate\n",
    "from langchain.chains import LLMChain\n",
    "from langchain.chat_models import ChatOpenAI\n",
    "from langchain.memory import ConversationBufferMemory\n",
    "\n",
    "examples = [\n",
    "    {\"input\": \"탑건\", \"output\": \"🛩️👨‍✈️🔥\"},\n",
    "    {\"input\": \"대부\", \"output\": \"👨‍👨‍👦🔫🍝\"},\n",
    "]\n",
    "\n",
    "example_prompt = PromptTemplate(\n",
    "    input_variables=[\"input\", \"output\"],\n",
    "    template=\"영화 제목: {input}\\n이모티콘: {output}\"\n",
    ")\n",
    "\n",
    "few_shot_prompt = FewShotPromptTemplate(\n",
    "    examples=examples,\n",
    "    example_prompt=example_prompt,\n",
    "    prefix=\"영화 제목에 대한 세 개의 이모티콘을 제공합니다.\",\n",
    "    suffix=\"사용자 입력: {input}\\n응답:\",\n",
    "    input_variables=[\"input\"],\n",
    ")\n",
    "\n",
    "memory = ConversationBufferMemory()\n",
    "\n",
    "llm = ChatOpenAI(model=\"gpt-3.5-turbo\", temperature=0.1)\n",
    "\n",
    "chain = LLMChain(llm=llm, prompt=few_shot_prompt, memory=memory)\n",
    "\n",
    "response1 = chain.run({\"input\": \"탑건\"})\n",
    "print(\"응답1:\", response1)\n",
    "\n",
    "response2 = chain.run({\"input\": \"대부\"})\n",
    "print(\"응답2:\", response2)\n",
    "\n",
    "print(\"메모리 확인:\")\n",
    "for msg in chain.memory.chat_memory.messages:\n",
    "    print(msg)"
   ]
  },
  {
   "cell_type": "code",
   "execution_count": null,
   "metadata": {},
   "outputs": [],
   "source": []
  }
 ],
 "metadata": {
  "kernelspec": {
   "display_name": "env",
   "language": "python",
   "name": "python3"
  },
  "language_info": {
   "codemirror_mode": {
    "name": "ipython",
    "version": 3
   },
   "file_extension": ".py",
   "mimetype": "text/x-python",
   "name": "python",
   "nbconvert_exporter": "python",
   "pygments_lexer": "ipython3",
   "version": "3.11.6"
  }
 },
 "nbformat": 4,
 "nbformat_minor": 2
}
