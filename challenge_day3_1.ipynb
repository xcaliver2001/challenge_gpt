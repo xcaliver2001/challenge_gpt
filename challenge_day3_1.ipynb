{
 "cells": [
  {
   "cell_type": "code",
   "execution_count": 6,
   "metadata": {},
   "outputs": [
    {
     "name": "stdout",
     "output_type": "stream",
     "text": [
      "Question: Is Aaronson guilty?\n",
      "Answer: Based on the additional context provided, Aaronson, along with Jones and Rutherford, were falsely accused and found guilty of crimes they did not commit. The protagonist, under the control and manipulation of the Party, eventually comes to accept this false narrative as truth and willingly submits to the Party's ideology. Aaronson's guilt is a fabricated construct used to maintain control and manipulate the protagonist's perception of reality. Therefore, Aaronson is not guilty in a true legal sense, but rather a victim of the Party's propaganda and psychological manipulation.\n",
      "\n",
      "Question: What message did he write in the table?\n",
      "Answer: The message he wrote on the slate table, \"FREEDOM IS SLAVERY,\" followed by \"TWO AND TWO MAKE FIVE,\" and then \"GOD IS POWER,\" reflects the indoctrination and manipulation enforced by the Party in George Orwell's novel \"1984.\" In this context, Winston's act of writing these phrases on the table showcases the pervasive control and distortion of truth in the society he lives in. The juxtaposition of these slogans with Winston's thoughts about his own struggles, his dependence on gin as a coping mechanism, and his involvement in meaningless committee work highlights the oppressive and dystopian nature of the Party's rule. Winston's actions and inner turmoil reflect the constant battle between individuality and conformity in the totalitarian society depicted in the novel.\n",
      "\n",
      "Question: Who is Julia?\n",
      "Answer: Based on the additional context provided, Julia is a character in \"1984\" by George Orwell who plays a significant role in the protagonist Winston's life. She represents a connection to humanity, warmth, and rebellion against the oppressive Party. Winston's relationship with Julia serves as a form of resistance and a glimpse of freedom in a society controlled by the Party's totalitarian rule. Their bond provides Winston with moments of genuine emotion and companionship in a world devoid of personal connections. Julia's character symbolizes hope and defiance in the face of oppression, highlighting the contrast between individual desires and the Party's control over its citizens. The passage showcases the depth of Winston's feelings for Julia and the internal conflict he experiences as he navigates the harsh reality of their dystopian society. Julia's presence in Winston's life signifies a beacon of humanity and resistance, making her a crucial figure in the novel's exploration of power dynamics and the human spirit.\n",
      "\n"
     ]
    }
   ],
   "source": [
    "from langchain.chat_models import ChatOpenAI\n",
    "from langchain.document_loaders import UnstructuredFileLoader\n",
    "from langchain.text_splitter import CharacterTextSplitter\n",
    "from langchain.vectorstores import FAISS\n",
    "from langchain.embeddings import OpenAIEmbeddings, CacheBackedEmbeddings\n",
    "from langchain.storage import LocalFileStore\n",
    "from langchain.chains import RetrievalQA\n",
    "\n",
    "\n",
    "document_path = \"./data/document.txt\"\n",
    "\n",
    "llm = ChatOpenAI()\n",
    "cached_dir = LocalFileStore('./cache/')\n",
    "\n",
    "splitter = CharacterTextSplitter.from_tiktoken_encoder(\n",
    "    separator='\\n',\n",
    "    chunk_size=600,\n",
    "    chunk_overlap=100,\n",
    ")\n",
    "\n",
    "loader = UnstructuredFileLoader(document_path)\n",
    "docs = loader.load_and_split(text_splitter=splitter)\n",
    "\n",
    "\n",
    "embeddings = OpenAIEmbeddings()\n",
    "cached_embeddings = CacheBackedEmbeddings.from_bytes_store(embeddings, cached_dir)\n",
    "vectorstore = FAISS.from_documents(docs, cached_embeddings)\n",
    "\n",
    "\n",
    "chain = RetrievalQA.from_chain_type(\n",
    "    llm=llm,\n",
    "    chain_type='refine',\n",
    "    retriever=vectorstore.as_retriever(),\n",
    ")\n",
    "\n",
    "\n",
    "questions = [\n",
    "    \"Is Aaronson guilty?\",\n",
    "    \"What message did he write in the table?\",\n",
    "    \"Who is Julia?\",\n",
    "]\n",
    "\n",
    "for question in questions:\n",
    "    answer = chain.run(question)\n",
    "    print(f\"Question: {question}\\nAnswer: {answer}\\n\")"
   ]
  },
  {
   "cell_type": "code",
   "execution_count": null,
   "metadata": {},
   "outputs": [],
   "source": []
  }
 ],
 "metadata": {
  "kernelspec": {
   "display_name": "env",
   "language": "python",
   "name": "python3"
  },
  "language_info": {
   "codemirror_mode": {
    "name": "ipython",
    "version": 3
   },
   "file_extension": ".py",
   "mimetype": "text/x-python",
   "name": "python",
   "nbconvert_exporter": "python",
   "pygments_lexer": "ipython3",
   "version": "3.11.6"
  }
 },
 "nbformat": 4,
 "nbformat_minor": 2
}
