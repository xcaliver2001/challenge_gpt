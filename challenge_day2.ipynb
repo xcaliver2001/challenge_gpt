{
 "cells": [
  {
   "cell_type": "code",
   "execution_count": 8,
   "metadata": {},
   "outputs": [],
   "source": [
    "\n",
    "# chat message prompt template\n",
    "from langchain.chat_models import ChatOpenAI\n",
    "from langchain.prompts.few_shot import FewShotChatMessagePromptTemplate\n",
    "from langchain.callbacks import StreamingStdOutCallbackHandler\n",
    "from langchain.prompts import ChatMessagePromptTemplate, ChatPromptTemplate\n",
    "\n",
    "chat = ChatOpenAI(\n",
    "    temperature=0.1,\n",
    "    streaming=True,\n",
    "    callbacks=[\n",
    "        StreamingStdOutCallbackHandler(),\n",
    "    ],\n",
    ")\n",
    "\n"
   ]
  },
  {
   "cell_type": "code",
   "execution_count": 9,
   "metadata": {},
   "outputs": [],
   "source": [
    "examples = [{\"title\": \"소방관\", \"answer\": \"\"\"감독: 김태균, 출연진: 곽도원, 유재명, 예산: 정보 없음, 흥행 수익: 약 77억 원, 영화의 장르: 드라마, 시놉시스: 화재 현장에서 활약하는 소방관들의 삶과 그들의 희생을 그린 감동적인 이야기.\"\"\"},\n",
    "{\"title\": \"모아나 2\", \"answer\": \"\"\"감독: 정보 없음, 출연진: 정보 없음, 예산: 정보 없음, 흥행 수익: 약 2056억 원, 영화의 장르: 애니메이션, 시놉시스: 모아나가 새로운 모험을 통해 자신의 정체성을 찾아가는 이야기.\"\"\"},\n",
    "{\"title\": \"위키드\", \"answer\": \"\"\"감독: 정보 없음, 출연진: 정보 없음, 예산: 정보 없음, 흥행 수익: 약 1498억 원, 영화의 장르: 뮤지컬, 시놉시스: 오즈의 마법사 이전의 이야기를 다룬 뮤지컬 영화.\"\"\"},\n",
    "]"
   ]
  },
  {
   "cell_type": "code",
   "execution_count": 10,
   "metadata": {},
   "outputs": [
    {
     "name": "stdout",
     "output_type": "stream",
     "text": [
      "감독: 윤가은, 출연진: 김강우, 김소은, 예산: 정보 없음, 흥행 수익: 정보 없음, 영화의 장르: 로맨스, 드라마, 시놉시스: 서울에서 만난 두 남녀가 서로의 과거와 현재를 마주하며 사랑과 우정을 찾아가는 이야기."
     ]
    },
    {
     "data": {
      "text/plain": [
       "AIMessageChunk(content='감독: 윤가은, 출연진: 김강우, 김소은, 예산: 정보 없음, 흥행 수익: 정보 없음, 영화의 장르: 로맨스, 드라마, 시놉시스: 서울에서 만난 두 남녀가 서로의 과거와 현재를 마주하며 사랑과 우정을 찾아가는 이야기.')"
      ]
     },
     "execution_count": 10,
     "metadata": {},
     "output_type": "execute_result"
    }
   ],
   "source": [
    "example_prompt = ChatPromptTemplate.from_messages(\n",
    "    [\n",
    "        (\"human\", \"What do you know about {title}?\"),\n",
    "        (\"ai\", \"{answer}\"),\n",
    "    ]\n",
    ")\n",
    "\n",
    "example_prompt = FewShotChatMessagePromptTemplate(\n",
    "    example_prompt=example_prompt,\n",
    "    examples=examples,\n",
    ")\n",
    "\n",
    "final_prompt = ChatPromptTemplate.from_messages(\n",
    "    [\n",
    "        (\"system\", \"You should give information about movies in short.\"),\n",
    "        example_prompt,\n",
    "        (\"human\", \"What do you know about {movie}?\"),\n",
    "    ]\n",
    ")\n",
    "\n",
    "chain = final_prompt | chat\n",
    "\n",
    "chain.invoke({\"movie\": \"서울의 봄\"})"
   ]
  }
 ],
 "metadata": {
  "kernelspec": {
   "display_name": "env",
   "language": "python",
   "name": "python3"
  },
  "language_info": {
   "codemirror_mode": {
    "name": "ipython",
    "version": 3
   },
   "file_extension": ".py",
   "mimetype": "text/x-python",
   "name": "python",
   "nbconvert_exporter": "python",
   "pygments_lexer": "ipython3",
   "version": "3.11.6"
  }
 },
 "nbformat": 4,
 "nbformat_minor": 2
}
